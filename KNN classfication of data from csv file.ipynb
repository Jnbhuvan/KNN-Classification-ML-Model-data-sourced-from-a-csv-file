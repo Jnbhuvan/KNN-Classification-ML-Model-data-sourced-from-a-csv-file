{
 "cells": [
  {
   "cell_type": "code",
   "execution_count": 1,
   "id": "f6b13036-e08d-41cb-bce4-97e543a9dce0",
   "metadata": {},
   "outputs": [],
   "source": [
    "import pandas as pd\n",
    "import numpy as np\n",
    "import sklearn\n"
   ]
  },
  {
   "cell_type": "code",
   "execution_count": 3,
   "id": "433abc04-5496-40a6-9503-24c865eee116",
   "metadata": {},
   "outputs": [],
   "source": [
    "\n",
    "\n",
    "from sklearn.model_selection import train_test_split\n",
    "from sklearn.neighbors import KNeighborsClassifier\n"
   ]
  },
  {
   "cell_type": "markdown",
   "id": "8cae8bf9-23a8-4e2e-8864-02d44be5b2d6",
   "metadata": {},
   "source": [
    "Developing the Model"
   ]
  },
  {
   "cell_type": "markdown",
   "id": "b630f755-8bff-4201-9aa4-afa591d0e4e7",
   "metadata": {},
   "source": [
    "iris_df = pd.read_csv('iris.csv');\n",
    "\n",
    "X_train,X_test,y_train,y_test = train_test_split(iris_df[['sepal length (cm)','sepal width (cm)','petal length (cm)','petal width (cm)']],\n",
    "                                                 iris_df['target'],random_state = 0)\n",
    "\n",
    "knn = KNeighborsClassifier(n_neighbors = 1)\n",
    "\n",
    "knn.fit(X_train,y_train)\n",
    "\n"
   ]
  },
  {
   "cell_type": "markdown",
   "id": "97983841-9689-49b4-8e9d-6700e81c3e91",
   "metadata": {},
   "source": [
    "Evaluation of the model"
   ]
  },
  {
   "cell_type": "code",
   "execution_count": 11,
   "id": "942b8134-cd77-480e-ba99-c9324eae33d6",
   "metadata": {},
   "outputs": [
    {
     "name": "stdout",
     "output_type": "stream",
     "text": [
      "Accuracy of the model: 97.36842105263158%\n"
     ]
    }
   ],
   "source": [
    "y_predict = knn.predict(X_test)\n",
    "\n",
    "print(f\"Accuracy of the model: {np.mean(y_test == y_predict)*100}%\")"
   ]
  },
  {
   "cell_type": "markdown",
   "id": "70f41c3f-32e8-417c-a04a-e793853e4183",
   "metadata": {},
   "source": [
    "Making Predictions"
   ]
  },
  {
   "cell_type": "code",
   "execution_count": 24,
   "id": "b2def3b0-2d1e-4bdb-87cf-9a2d56ad9a2d",
   "metadata": {},
   "outputs": [
    {
     "name": "stdout",
     "output_type": "stream",
     "text": [
      "Predicted result for the test sample given: \n",
      " \t versicolor\n"
     ]
    }
   ],
   "source": [
    "test_sample = np.array([[5,2.9,2,2]])\n",
    "y_predicted = knn.predict(test_sample)\n",
    "\n",
    "import warnings\n",
    "warnings.filterwarnings(\"ignore\", message=\"X does not have valid feature names\")\n",
    "warnings.filterwarnings(\"ignore\", category=DeprecationWarning)\n",
    "\n",
    "target={0:'Setosa',1:'versicolor',2:'virginica'}\n",
    "no = int(y_predicted[0])\n",
    "print(f\"Predicted result for the test sample given: \\n \\t {target[no]}\")\n"
   ]
  },
  {
   "cell_type": "code",
   "execution_count": null,
   "id": "a578b2af-1524-4315-adb1-8596a790b9d0",
   "metadata": {},
   "outputs": [],
   "source": []
  }
 ],
 "metadata": {
  "kernelspec": {
   "display_name": "Python 3 (ipykernel)",
   "language": "python",
   "name": "python3"
  },
  "language_info": {
   "codemirror_mode": {
    "name": "ipython",
    "version": 3
   },
   "file_extension": ".py",
   "mimetype": "text/x-python",
   "name": "python",
   "nbconvert_exporter": "python",
   "pygments_lexer": "ipython3",
   "version": "3.13.3"
  }
 },
 "nbformat": 4,
 "nbformat_minor": 5
}
